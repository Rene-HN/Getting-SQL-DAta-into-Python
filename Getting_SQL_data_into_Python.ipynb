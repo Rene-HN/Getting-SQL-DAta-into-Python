{
  "nbformat": 4,
  "nbformat_minor": 0,
  "metadata": {
    "colab": {
      "name": "Getting SQL data into Python.ipynb",
      "provenance": [],
      "authorship_tag": "ABX9TyMRWKQe0mtv9PtSMM4Jl37S",
      "include_colab_link": true
    },
    "kernelspec": {
      "name": "python3",
      "display_name": "Python 3"
    }
  },
  "cells": [
    {
      "cell_type": "markdown",
      "metadata": {
        "id": "view-in-github",
        "colab_type": "text"
      },
      "source": [
        "<a href=\"https://colab.research.google.com/github/Rene-HN/Getting-SQL-DAta-into-Python/blob/master/Getting_SQL_data_into_Python.ipynb\" target=\"_parent\"><img src=\"https://colab.research.google.com/assets/colab-badge.svg\" alt=\"Open In Colab\"/></a>"
      ]
    },
    {
      "cell_type": "code",
      "metadata": {
        "id": "DdF_ytSW5F7B",
        "colab_type": "code",
        "colab": {}
      },
      "source": [
        "\n",
        "# Import the SQL ALchemy engine\n",
        "from sqlalchemy import create_engine\n",
        "from getpass import getpass"
      ],
      "execution_count": null,
      "outputs": []
    },
    {
      "cell_type": "code",
      "metadata": {
        "id": "zMbMRiUt5dOj",
        "colab_type": "code",
        "colab": {
          "base_uri": "https://localhost:8080/",
          "height": 34
        },
        "outputId": "b5fa2f74-0021-417a-9e4c-89e50b1dc4c3"
      },
      "source": [
        "# Database credentials\n",
        "postgres_user = 'dsbc_student'\n",
        "postgres_pw = getpass()\n",
        "postgres_host = '142.93.121.174'\n",
        "postgres_port = '5432'\n",
        "postgres_db = 'dvdrentals'\n",
        "#''\n",
        "# use the credentials to start a connection\n",
        "engine = create_engine('postgresql://{}:{}@{}:{}/{}'.format(\n",
        "    postgres_user, postgres_pw, postgres_host, postgres_port, postgres_db))"
      ],
      "execution_count": null,
      "outputs": [
        {
          "output_type": "stream",
          "text": [
            "··········\n"
          ],
          "name": "stdout"
        }
      ]
    },
    {
      "cell_type": "code",
      "metadata": {
        "id": "7TYbkBgd-YrZ",
        "colab_type": "code",
        "colab": {
          "base_uri": "https://localhost:8080/",
          "height": 214
        },
        "outputId": "8de5115f-344d-493f-dc3a-356ed772172a"
      },
      "source": [
        "# Execute the SQL statement again\n",
        "insurance = engine.execute('SELECT * FROM film Limit 10')\n",
        "\n",
        "# dispose the connection\n",
        "engine.dispose()\n",
        "\n",
        "# use fetchall() to get a list of rows from the results.\n",
        "rows = insurance.fetchall()\n",
        "\n",
        "# now process the list of rows\n",
        "for row in rows:\n",
        "  print(row)"
      ],
      "execution_count": null,
      "outputs": [
        {
          "output_type": "stream",
          "text": [
            "(1, 'ACADEMY DINOSAUR', 'A Epic Drama of a Feminist And a Mad Scientist who must Battle a Teacher in The Canadian Rockies', 2006, 1, None, 6, Decimal('0.99'), 86, Decimal('20.99'), 'PG', datetime.datetime(2007, 9, 10, 17, 46, 3, 905795), ['Deleted Scenes', 'Behind the Scenes'], \"'academi':1 'battl':15 'canadian':20 'dinosaur':2 'drama':5 'epic':4 'feminist':8 'mad':11 'must':14 'rocki':21 'scientist':12 'teacher':17\")\n",
            "(2, 'ACE GOLDFINGER', 'A Astounding Epistle of a Database Administrator And a Explorer who must Find a Car in Ancient China', 2006, 1, None, 3, Decimal('4.99'), 48, Decimal('12.99'), 'G', datetime.datetime(2007, 9, 10, 17, 46, 3, 905795), ['Trailers', 'Deleted Scenes'], \"'ace':1 'administr':9 'ancient':19 'astound':4 'car':17 'china':20 'databas':8 'epistl':5 'explor':12 'find':15 'goldfing':2 'must':14\")\n",
            "(3, 'ADAPTATION HOLES', 'A Astounding Reflection of a Lumberjack And a Car who must Sink a Lumberjack in A Baloon Factory', 2006, 1, None, 7, Decimal('2.99'), 50, Decimal('18.99'), 'NC-17', datetime.datetime(2007, 9, 10, 17, 46, 3, 905795), ['Trailers', 'Deleted Scenes'], \"'adapt':1 'astound':4 'baloon':19 'car':11 'factori':20 'hole':2 'lumberjack':8,16 'must':13 'reflect':5 'sink':14\")\n",
            "(4, 'AFFAIR PREJUDICE', 'A Fanciful Documentary of a Frisbee And a Lumberjack who must Chase a Monkey in A Shark Tank', 2006, 1, None, 5, Decimal('2.99'), 117, Decimal('26.99'), 'G', datetime.datetime(2007, 9, 10, 17, 46, 3, 905795), ['Commentaries', 'Behind the Scenes'], \"'affair':1 'chase':14 'documentari':5 'fanci':4 'frisbe':8 'lumberjack':11 'monkey':16 'must':13 'prejudic':2 'shark':19 'tank':20\")\n",
            "(5, 'AFRICAN EGG', 'A Fast-Paced Documentary of a Pastry Chef And a Dentist who must Pursue a Forensic Psychologist in The Gulf of Mexico', 2006, 1, None, 6, Decimal('2.99'), 130, Decimal('22.99'), 'G', datetime.datetime(2007, 9, 10, 17, 46, 3, 905795), ['Deleted Scenes'], \"'african':1 'chef':11 'dentist':14 'documentari':7 'egg':2 'fast':5 'fast-pac':4 'forens':19 'gulf':23 'mexico':25 'must':16 'pace':6 'pastri':10 'psychologist':20 'pursu':17\")\n",
            "(6, 'AGENT TRUMAN', 'A Intrepid Panorama of a Robot And a Boy who must Escape a Sumo Wrestler in Ancient China', 2006, 1, None, 3, Decimal('2.99'), 169, Decimal('17.99'), 'PG', datetime.datetime(2007, 9, 10, 17, 46, 3, 905795), ['Deleted Scenes'], \"'agent':1 'ancient':19 'boy':11 'china':20 'escap':14 'intrepid':4 'must':13 'panorama':5 'robot':8 'sumo':16 'truman':2 'wrestler':17\")\n",
            "(7, 'AIRPLANE SIERRA', 'A Touching Saga of a Hunter And a Butler who must Discover a Butler in A Jet Boat', 2006, 1, None, 6, Decimal('4.99'), 62, Decimal('28.99'), 'PG-13', datetime.datetime(2007, 9, 10, 17, 46, 3, 905795), ['Trailers', 'Deleted Scenes'], \"'airplan':1 'boat':20 'butler':11,16 'discov':14 'hunter':8 'jet':19 'must':13 'saga':5 'sierra':2 'touch':4\")\n",
            "(8, 'AIRPORT POLLOCK', 'A Epic Tale of a Moose And a Girl who must Confront a Monkey in Ancient India', 2006, 1, None, 6, Decimal('4.99'), 54, Decimal('15.99'), 'R', datetime.datetime(2007, 9, 10, 17, 46, 3, 905795), ['Trailers'], \"'airport':1 'ancient':18 'confront':14 'epic':4 'girl':11 'india':19 'monkey':16 'moos':8 'must':13 'pollock':2 'tale':5\")\n",
            "(9, 'ALABAMA DEVIL', 'A Thoughtful Panorama of a Database Administrator And a Mad Scientist who must Outgun a Mad Scientist in A Jet Boat', 2006, 1, None, 3, Decimal('2.99'), 114, Decimal('21.99'), 'PG-13', datetime.datetime(2007, 9, 10, 17, 46, 3, 905795), ['Trailers', 'Deleted Scenes'], \"'administr':9 'alabama':1 'boat':23 'databas':8 'devil':2 'jet':22 'mad':12,18 'must':15 'outgun':16 'panorama':5 'scientist':13,19 'thought':4\")\n",
            "(10, 'ALADDIN CALENDAR', 'A Action-Packed Tale of a Man And a Lumberjack who must Reach a Feminist in Ancient China', 2006, 1, None, 6, Decimal('4.99'), 63, Decimal('24.99'), 'NC-17', datetime.datetime(2007, 9, 10, 17, 46, 3, 905795), ['Trailers', 'Deleted Scenes'], \"'action':5 'action-pack':4 'aladdin':1 'ancient':20 'calendar':2 'china':21 'feminist':18 'lumberjack':13 'man':10 'must':15 'pack':6 'reach':16 'tale':7\")\n"
          ],
          "name": "stdout"
        }
      ]
    },
    {
      "cell_type": "markdown",
      "metadata": {
        "id": "GLjDSz0H59o4",
        "colab_type": "text"
      },
      "source": [
        "# Assignment\n",
        "Create a Jupyter Notebook that uses SQLAlchemy to access a SQL database containing data about movies. Use Python to answer some basic questions about the data.\n",
        "\n",
        "Use the following connection credentials:\n",
        "\n",
        "* postgres_user = 'dsbc_student'\n",
        "*postgres_pw = \n",
        "*postgres_host = '142.93.121.174'\n",
        "*postgres_port = '5432'*\n",
        "*postgres_db = 'dvdrentals'\n",
        "\n",
        "Then, answer the following questions. You will need to read from the film and language tables.\n",
        "\n",
        "For each question, you should have a separate cell in your Notebook that prints out the answer.\n",
        "\n",
        "1. How many movies are released for each rating?\n",
        "2. What is the average rental duration for each rating?\n",
        "3. What is the mean movie length? Calculate this by defining a function.\n",
        "4. What is the median movie length? Calculate this by defining a function.\n",
        "5. Calculate the standard deviation of the movie lengths. Calculate this *by*  defining a function."
      ]
    },
    {
      "cell_type": "code",
      "metadata": {
        "id": "MmXbUXzn9Jrd",
        "colab_type": "code",
        "colab": {}
      },
      "source": [
        ""
      ],
      "execution_count": null,
      "outputs": []
    },
    {
      "cell_type": "markdown",
      "metadata": {
        "id": "7bE_AGLS81Eh",
        "colab_type": "text"
      },
      "source": [
        "##Question 1.\n",
        "\n",
        "\n",
        "\n",
        "How many movies are released for each rating?\n",
        "\n",
        "\n",
        "\n",
        "\n",
        "\n"
      ]
    },
    {
      "cell_type": "code",
      "metadata": {
        "id": "AGJ-JS8E8zKx",
        "colab_type": "code",
        "colab": {
          "base_uri": "https://localhost:8080/",
          "height": 105
        },
        "outputId": "514839f9-41c2-4763-9416-0872978198ad"
      },
      "source": [
        "sql = '''\n",
        "  SELECT rating, COUNT(rating) AS count\n",
        "  FROM film\n",
        "  Group BY rating;\n",
        "'''\n",
        "\n",
        "results = engine.execute(sql)\n",
        "engine.dispose()\n",
        "rows = results.fetchall()\n",
        "\n",
        "# print some results just to see what we got\n",
        "for row in rows:\n",
        "  print('There are {} released {} movies.'.format(row['count'], row['rating']))"
      ],
      "execution_count": null,
      "outputs": [
        {
          "output_type": "stream",
          "text": [
            "There are 195 released R movies.\n",
            "There are 210 released NC-17 movies.\n",
            "There are 194 released PG movies.\n",
            "There are 223 released PG-13 movies.\n",
            "There are 178 released G movies.\n"
          ],
          "name": "stdout"
        }
      ]
    },
    {
      "cell_type": "code",
      "metadata": {
        "id": "NKrHNRUeKL5Z",
        "colab_type": "code",
        "colab": {}
      },
      "source": [
        ""
      ],
      "execution_count": null,
      "outputs": []
    },
    {
      "cell_type": "markdown",
      "metadata": {
        "id": "r5fXpgIkNBWo",
        "colab_type": "text"
      },
      "source": [
        "## Question 2.\n",
        "\n",
        "2. What is the average rental duration for each rating?"
      ]
    },
    {
      "cell_type": "code",
      "metadata": {
        "id": "lPkwN5lSNAZ_",
        "colab_type": "code",
        "colab": {
          "base_uri": "https://localhost:8080/",
          "height": 105
        },
        "outputId": "b6e7caf0-f3a3-4de4-8070-c1d0e1298a97"
      },
      "source": [
        "sql = '''\n",
        "  SELECT rating, COUNT(rating) AS count, ROUND(AVG(rental_duration), 1) as average_rental_duration\n",
        "  FROM film \n",
        "  Group BY rating;\n",
        "'''\n",
        "\n",
        "\n",
        "results = engine.execute(sql)\n",
        "engine.dispose()\n",
        "rows = results.fetchall()\n",
        "\n",
        "# print some results just to see what we got\n",
        "for row in rows:\n",
        "  print(\n",
        "      'The average rental duration for a {} movie is {} days.'.format(\n",
        "          row['rating'], \n",
        "          row['average_rental_duration']\n",
        "          ))"
      ],
      "execution_count": null,
      "outputs": [
        {
          "output_type": "stream",
          "text": [
            "The average rental duration for a R movie is 4.8 days.\n",
            "The average rental duration for a NC-17 movie is 5.1 days.\n",
            "The average rental duration for a PG movie is 5.1 days.\n",
            "The average rental duration for a PG-13 movie is 5.1 days.\n",
            "The average rental duration for a G movie is 4.8 days.\n"
          ],
          "name": "stdout"
        }
      ]
    },
    {
      "cell_type": "markdown",
      "metadata": {
        "id": "2yYy_j4wVhCQ",
        "colab_type": "text"
      },
      "source": [
        "##Question 3 \n",
        "\n",
        "3. What is the mean movie length? Calculate this by defining a function"
      ]
    },
    {
      "cell_type": "code",
      "metadata": {
        "id": "lM5A2FS9VJI5",
        "colab_type": "code",
        "colab": {}
      },
      "source": [
        "# A simple implementation simply iterating the array\n",
        "def mean(numbers):\n",
        "  total_sum = 0;  # initialize the sum to zero\n",
        "  for n in numbers:\n",
        "    total_sum += n # add up the numbers in the array\n",
        "  count = len(numbers)   # find the length of the array\n",
        "  avg = total_sum / count  # calculate the mean\n",
        "  return avg  # return the result\n"
      ],
      "execution_count": null,
      "outputs": []
    },
    {
      "cell_type": "code",
      "metadata": {
        "id": "pooQCVk5Xhgf",
        "colab_type": "code",
        "colab": {
          "base_uri": "https://localhost:8080/",
          "height": 34
        },
        "outputId": "8c9ae59d-6dc6-4268-f1b1-81f4fea14cf8"
      },
      "source": [
        "sql = '''\n",
        "  SELECT length FROM film;\n",
        " '''\n",
        "results = engine.execute(sql)\n",
        "engine.dispose()\n",
        "\n",
        "rows = results.fetchall()\n",
        "\n",
        "movie_lengths = [x['length'] for x in rows]\n",
        "\n",
        "print('The mean of all the movie lenghts is {}.'.format(mean(movie_lengths)))"
      ],
      "execution_count": null,
      "outputs": [
        {
          "output_type": "stream",
          "text": [
            "The mean of all the movie lenghts is 115.272.\n"
          ],
          "name": "stdout"
        }
      ]
    },
    {
      "cell_type": "markdown",
      "metadata": {
        "id": "4cgkjI11WHcV",
        "colab_type": "text"
      },
      "source": [
        "##Question 4.\n",
        "4. What is the median movie length? Calculate this by defining a function.\n"
      ]
    },
    {
      "cell_type": "code",
      "metadata": {
        "id": "Bgc_SAu-W7GS",
        "colab_type": "code",
        "colab": {}
      },
      "source": [
        "import math\n",
        "\n",
        "def median(numbers):\n",
        "  numbers.sort()  # sort the list of numbers\n",
        "  count = len(numbers) # get the length of the array\n",
        "  isEven = count % 2 == 0 # check if this list is of even length\n",
        "  \n",
        "  if (isEven):\n",
        "    # find the two numbers in the middle of the array\n",
        "    mid = math.floor( count / 2 )\n",
        "    a = numbers[mid - 1]\n",
        "    b = numbers[mid]\n",
        "    # find the average of these two numbers\n",
        "    ans = (a + b) / 2\n",
        "  else:\n",
        "    ans = numbers[math.floor( count / 2 )]\n",
        " \n",
        "  return ans\n"
      ],
      "execution_count": null,
      "outputs": []
    },
    {
      "cell_type": "code",
      "metadata": {
        "id": "60y0_WcuXvoG",
        "colab_type": "code",
        "colab": {
          "base_uri": "https://localhost:8080/",
          "height": 34
        },
        "outputId": "a8234f4c-a898-4326-adbf-a60068ac36da"
      },
      "source": [
        "print('The median of all the movie lenghts is {}.'.format(median(movie_lengths)))"
      ],
      "execution_count": null,
      "outputs": [
        {
          "output_type": "stream",
          "text": [
            "The median of all the movie lenghts is 114.0.\n"
          ],
          "name": "stdout"
        }
      ]
    },
    {
      "cell_type": "markdown",
      "metadata": {
        "id": "pPbeJ7dlW8HQ",
        "colab_type": "text"
      },
      "source": [
        "##Question 5\n",
        "\n",
        "5. Calculate the standard deviation of the movie lengths. Calculate this by defining a function."
      ]
    },
    {
      "cell_type": "code",
      "metadata": {
        "id": "6TMDgXsnXBne",
        "colab_type": "code",
        "colab": {}
      },
      "source": [
        "def standard_deviation(numbers):\n",
        "  X_bar = mean(numbers)\n",
        "  N = len(numbers)\n",
        "  total_sum = 0\n",
        "  for X in numbers:\n",
        "    diff = X - X_bar\n",
        "    squared = math.pow(diff, 2)\n",
        "    total_sum += squared\n",
        "  sigma = math.sqrt(total_sum / (N - 1))  \n",
        "  return sigma"
      ],
      "execution_count": null,
      "outputs": []
    },
    {
      "cell_type": "code",
      "metadata": {
        "id": "SADLCYB-pdUI",
        "colab_type": "code",
        "colab": {
          "base_uri": "https://localhost:8080/",
          "height": 34
        },
        "outputId": "64a29258-346e-4cd7-d5f3-b78489c3d2fb"
      },
      "source": [
        "print('The standar deviation of all the movie lenghts is {}.'.format(standard_deviation(movie_lengths)))"
      ],
      "execution_count": null,
      "outputs": [
        {
          "output_type": "stream",
          "text": [
            "The standar deviation of all the movie lenghts is 40.42633181855988.\n"
          ],
          "name": "stdout"
        }
      ]
    },
    {
      "cell_type": "markdown",
      "metadata": {
        "id": "gtceggLEX08_",
        "colab_type": "text"
      },
      "source": [
        ""
      ]
    }
  ]
}