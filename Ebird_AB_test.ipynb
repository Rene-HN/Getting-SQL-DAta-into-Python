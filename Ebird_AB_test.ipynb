{
  "nbformat": 4,
  "nbformat_minor": 0,
  "metadata": {
    "kernelspec": {
      "display_name": "Python 3",
      "language": "python",
      "name": "python3"
    },
    "language_info": {
      "codemirror_mode": {
        "name": "ipython",
        "version": 3
      },
      "file_extension": ".py",
      "mimetype": "text/x-python",
      "name": "python",
      "nbconvert_exporter": "python",
      "pygments_lexer": "ipython3",
      "version": "3.8.3"
    },
    "colab": {
      "name": "Ebird AB test.ipynb",
      "provenance": [],
      "include_colab_link": true
    }
  },
  "cells": [
    {
      "cell_type": "markdown",
      "metadata": {
        "id": "view-in-github",
        "colab_type": "text"
      },
      "source": [
        "<a href=\"https://colab.research.google.com/github/Rene-HN/Getting-SQL-DAta-into-Python/blob/master/Ebird_AB_test.ipynb\" target=\"_parent\"><img src=\"https://colab.research.google.com/assets/colab-badge.svg\" alt=\"Open In Colab\"/></a>"
      ]
    },
    {
      "cell_type": "markdown",
      "metadata": {
        "id": "AW078ErkxFHP"
      },
      "source": [
        "### Relationship exploration between  Birds, Demographic and Economic metrics."
      ]
    },
    {
      "cell_type": "markdown",
      "metadata": {
        "id": "FCXy0NMiyGDw"
      },
      "source": [
        "## Introduction: Birds as Environmental Indicators\n",
        "\n",
        "Purpose of the study:\n",
        "\n",
        "* The citizen scientist concept is helping collect robust data  on projects like eBird. The eBird Database have been effective on collecting data that describe the birds distributions on a global scale. \n",
        "* In this case we will use the eBird data to  explore relationships between sets that could lead to the development of a model that would detect an instance of environmental degradation.\n",
        "* Traditionally pollution is cause by the externalities of the economic activities, we will use the GDP to explore any possible relationship with the birds distributions.\n",
        "* Also, we will use census data to explore any possible relationship between humans population and bird distributions.\n",
        "\n",
        "Data Sources\n",
        "\n",
        "* eBird:collective enterprise that takes a novel approach to citizen science.\n",
        "Temporal scope\n",
        "3/5/1810 - 12/31/2019 \n",
        "\n",
        "* United State Census Bureau\n",
        "National Intercensal Datasets\n",
        "2019 TIGER/Line Shapefiles.\n",
        "\n",
        "* The U.S. Bureau of Economic Analysis\n",
        "Real Gross Domestic Product (GDP) by state.\n",
        "Chained-dollars based on 2012 period.\n",
        "\n",
        "\n"
      ]
    },
    {
      "cell_type": "code",
      "metadata": {
        "colab": {
          "base_uri": "https://localhost:8080/"
        },
        "id": "F2ouU8EY02kd",
        "outputId": "c979b90d-e579-4f67-871f-bc3cec0787a3"
      },
      "source": [
        "! pip install pingouin"
      ],
      "execution_count": 2,
      "outputs": [
        {
          "output_type": "stream",
          "text": [
            "Collecting pingouin\n",
            "\u001b[?25l  Downloading https://files.pythonhosted.org/packages/55/47/9d1845b179fcbac04f13056846e132e54cf62734d33892a370f98efa5ac1/pingouin-0.3.10.tar.gz (204kB)\n",
            "\r\u001b[K     |█▋                              | 10kB 15.1MB/s eta 0:00:01\r\u001b[K     |███▏                            | 20kB 11.8MB/s eta 0:00:01\r\u001b[K     |████▉                           | 30kB 6.8MB/s eta 0:00:01\r\u001b[K     |██████▍                         | 40kB 6.9MB/s eta 0:00:01\r\u001b[K     |████████                        | 51kB 4.3MB/s eta 0:00:01\r\u001b[K     |█████████▋                      | 61kB 4.7MB/s eta 0:00:01\r\u001b[K     |███████████▏                    | 71kB 5.1MB/s eta 0:00:01\r\u001b[K     |████████████▉                   | 81kB 5.2MB/s eta 0:00:01\r\u001b[K     |██████████████▍                 | 92kB 5.2MB/s eta 0:00:01\r\u001b[K     |████████████████                | 102kB 5.4MB/s eta 0:00:01\r\u001b[K     |█████████████████▋              | 112kB 5.4MB/s eta 0:00:01\r\u001b[K     |███████████████████▎            | 122kB 5.4MB/s eta 0:00:01\r\u001b[K     |████████████████████▉           | 133kB 5.4MB/s eta 0:00:01\r\u001b[K     |██████████████████████▍         | 143kB 5.4MB/s eta 0:00:01\r\u001b[K     |████████████████████████        | 153kB 5.4MB/s eta 0:00:01\r\u001b[K     |█████████████████████████▋      | 163kB 5.4MB/s eta 0:00:01\r\u001b[K     |███████████████████████████▎    | 174kB 5.4MB/s eta 0:00:01\r\u001b[K     |████████████████████████████▉   | 184kB 5.4MB/s eta 0:00:01\r\u001b[K     |██████████████████████████████▍ | 194kB 5.4MB/s eta 0:00:01\r\u001b[K     |████████████████████████████████| 204kB 5.4MB/s \n",
            "\u001b[?25hRequirement already satisfied: numpy>=1.15 in /usr/local/lib/python3.6/dist-packages (from pingouin) (1.19.5)\n",
            "Requirement already satisfied: scipy>=1.3 in /usr/local/lib/python3.6/dist-packages (from pingouin) (1.4.1)\n",
            "Requirement already satisfied: pandas>=0.24 in /usr/local/lib/python3.6/dist-packages (from pingouin) (1.1.5)\n",
            "Requirement already satisfied: matplotlib>=3.0.2 in /usr/local/lib/python3.6/dist-packages (from pingouin) (3.2.2)\n",
            "Requirement already satisfied: seaborn>=0.9.0 in /usr/local/lib/python3.6/dist-packages (from pingouin) (0.11.1)\n",
            "Requirement already satisfied: statsmodels>=0.10.0 in /usr/local/lib/python3.6/dist-packages (from pingouin) (0.10.2)\n",
            "Requirement already satisfied: scikit-learn in /usr/local/lib/python3.6/dist-packages (from pingouin) (0.22.2.post1)\n",
            "Collecting pandas_flavor>=0.1.2\n",
            "  Downloading https://files.pythonhosted.org/packages/9a/57/7fbcff4c0961ed190ac5fcb0bd8194152ee1ee6487edf64fdbae16e2bc4b/pandas_flavor-0.2.0-py2.py3-none-any.whl\n",
            "Collecting outdated\n",
            "  Downloading https://files.pythonhosted.org/packages/86/70/2f166266438a30e94140f00c99c0eac1c45807981052a1d4c123660e1323/outdated-0.2.0.tar.gz\n",
            "Requirement already satisfied: tabulate in /usr/local/lib/python3.6/dist-packages (from pingouin) (0.8.7)\n",
            "Requirement already satisfied: pytz>=2017.2 in /usr/local/lib/python3.6/dist-packages (from pandas>=0.24->pingouin) (2018.9)\n",
            "Requirement already satisfied: python-dateutil>=2.7.3 in /usr/local/lib/python3.6/dist-packages (from pandas>=0.24->pingouin) (2.8.1)\n",
            "Requirement already satisfied: pyparsing!=2.0.4,!=2.1.2,!=2.1.6,>=2.0.1 in /usr/local/lib/python3.6/dist-packages (from matplotlib>=3.0.2->pingouin) (2.4.7)\n",
            "Requirement already satisfied: cycler>=0.10 in /usr/local/lib/python3.6/dist-packages (from matplotlib>=3.0.2->pingouin) (0.10.0)\n",
            "Requirement already satisfied: kiwisolver>=1.0.1 in /usr/local/lib/python3.6/dist-packages (from matplotlib>=3.0.2->pingouin) (1.3.1)\n",
            "Requirement already satisfied: patsy>=0.4.0 in /usr/local/lib/python3.6/dist-packages (from statsmodels>=0.10.0->pingouin) (0.5.1)\n",
            "Requirement already satisfied: joblib>=0.11 in /usr/local/lib/python3.6/dist-packages (from scikit-learn->pingouin) (1.0.0)\n",
            "Requirement already satisfied: xarray in /usr/local/lib/python3.6/dist-packages (from pandas_flavor>=0.1.2->pingouin) (0.15.1)\n",
            "Collecting littleutils\n",
            "  Downloading https://files.pythonhosted.org/packages/4e/b1/bb4e06f010947d67349f863b6a2ad71577f85590180a935f60543f622652/littleutils-0.2.2.tar.gz\n",
            "Requirement already satisfied: requests in /usr/local/lib/python3.6/dist-packages (from outdated->pingouin) (2.23.0)\n",
            "Requirement already satisfied: six>=1.5 in /usr/local/lib/python3.6/dist-packages (from python-dateutil>=2.7.3->pandas>=0.24->pingouin) (1.15.0)\n",
            "Requirement already satisfied: setuptools>=41.2 in /usr/local/lib/python3.6/dist-packages (from xarray->pandas_flavor>=0.1.2->pingouin) (53.0.0)\n",
            "Requirement already satisfied: idna<3,>=2.5 in /usr/local/lib/python3.6/dist-packages (from requests->outdated->pingouin) (2.10)\n",
            "Requirement already satisfied: urllib3!=1.25.0,!=1.25.1,<1.26,>=1.21.1 in /usr/local/lib/python3.6/dist-packages (from requests->outdated->pingouin) (1.24.3)\n",
            "Requirement already satisfied: chardet<4,>=3.0.2 in /usr/local/lib/python3.6/dist-packages (from requests->outdated->pingouin) (3.0.4)\n",
            "Requirement already satisfied: certifi>=2017.4.17 in /usr/local/lib/python3.6/dist-packages (from requests->outdated->pingouin) (2020.12.5)\n",
            "Building wheels for collected packages: pingouin, outdated, littleutils\n",
            "  Building wheel for pingouin (setup.py) ... \u001b[?25l\u001b[?25hdone\n",
            "  Created wheel for pingouin: filename=pingouin-0.3.10-cp36-none-any.whl size=203397 sha256=07648e3649dfd8263ef2b6e63a738fdb9d3629f4c17bfa9139550df9bd07e3ae\n",
            "  Stored in directory: /root/.cache/pip/wheels/e6/f4/06/b5046209e6c0d96b4dea243c45e926b5c0dd88e23b01c45f92\n",
            "  Building wheel for outdated (setup.py) ... \u001b[?25l\u001b[?25hdone\n",
            "  Created wheel for outdated: filename=outdated-0.2.0-cp36-none-any.whl size=4961 sha256=22d1bde9bbcd037365dfed1ac4ec102844d600ef2ce5b53eb0d2b7f2164c0187\n",
            "  Stored in directory: /root/.cache/pip/wheels/fd/7c/ef/814f514d31197310872b5abf353feb8fef9d67ee658e1e7e39\n",
            "  Building wheel for littleutils (setup.py) ... \u001b[?25l\u001b[?25hdone\n",
            "  Created wheel for littleutils: filename=littleutils-0.2.2-cp36-none-any.whl size=7051 sha256=01e6452433d92395f4fc237889975672a07e743531cfe0d4c722e6bbe58e36cc\n",
            "  Stored in directory: /root/.cache/pip/wheels/53/16/9f/ac67d15c40243754fd73f620e1b9b6dedc20492ecc19a2bae1\n",
            "Successfully built pingouin outdated littleutils\n",
            "Installing collected packages: pandas-flavor, littleutils, outdated, pingouin\n",
            "Successfully installed littleutils-0.2.2 outdated-0.2.0 pandas-flavor-0.2.0 pingouin-0.3.10\n"
          ],
          "name": "stdout"
        }
      ]
    },
    {
      "cell_type": "code",
      "metadata": {
        "id": "CzsnFTgf3Qun"
      },
      "source": [
        "import matplotlib.pyplot as plt\n",
        "import numpy as np\n",
        "import modin.pandas as pd\n",
        "from scipy import stats\n",
        "import statsmodels.api as sm\n",
        "import pingouin as pg\n",
        "import seaborn as sns\n",
        "\n"
      ],
      "execution_count": 3,
      "outputs": []
    },
    {
      "cell_type": "code",
      "metadata": {
        "id": "asuoHvul3Quq"
      },
      "source": [
        "pd.options.display.max_rows= 1500 #This code allows us to see the full rows\n",
        "pd.options.display.max_columns= 1500 #This code allows us to see the full columns"
      ],
      "execution_count": 4,
      "outputs": []
    },
    {
      "cell_type": "code",
      "metadata": {
        "id": "0tUJj451hi-8",
        "colab": {
          "base_uri": "https://localhost:8080/"
        },
        "outputId": "56f39ebd-49b5-4c0c-da3c-2311eb84cb18"
      },
      "source": [
        "from google.colab import drive\n",
        "drive.mount('/content/drive')"
      ],
      "execution_count": 5,
      "outputs": [
        {
          "output_type": "stream",
          "text": [
            "Mounted at /content/drive\n"
          ],
          "name": "stdout"
        }
      ]
    },
    {
      "cell_type": "code",
      "metadata": {
        "id": "r-w-sv8C3Qut"
      },
      "source": [
        "eB_US_State_GDP_Pop1 = pd.read_csv(r'/content/drive/My Drive/Thinkful/Capstone 1/eB_US_State_GDP_Pop1.csv')"
      ],
      "execution_count": 6,
      "outputs": []
    },
    {
      "cell_type": "code",
      "metadata": {
        "id": "Aa68Zsp73Qu2",
        "colab": {
          "base_uri": "https://localhost:8080/",
          "height": 312
        },
        "outputId": "89a06e09-5609-4f68-f84b-537edeee9962"
      },
      "source": [
        "# the histogram of the data\n",
        "n, bins, patches = plt.hist(eB_US_State_GDP_Pop1['species_density'], 500, density=True, facecolor='g', alpha=1)\n",
        "\n",
        "\n",
        "plt.xlabel('species count/ sqr Km')\n",
        "plt.title('Histogram of Unique Species Count Density by State')\n",
        "plt.xlim(0, 0.025)\n",
        "plt.ylim(0, 270)\n",
        "plt.grid(True)\n",
        "plt.show()\n",
        "print(stats.describe(eB_US_State_GDP_Pop1['species_density']))"
      ],
      "execution_count": 7,
      "outputs": [
        {
          "output_type": "display_data",
          "data": {
            "image/png": "[encoded data removed]",
            "text/plain": [
              "<Figure size 432x288 with 1 Axes>"
            ]
          },
          "metadata": {
            "tags": [],
            "needs_background": "light"
          }
        },
        {
          "output_type": "stream",
          "text": [
            "DescribeResult(nobs=1173, minmax=(0.0001792009441017139, 1.4122092893036982), mean=0.028963165224825258, variance=0.0273027310875642, skewness=7.040881292497089, kurtosis=48.55491346007279)\n"
          ],
          "name": "stdout"
        }
      ]
    },
    {
      "cell_type": "code",
      "metadata": {
        "id": "WqwI5_Pr3Qu5",
        "colab": {
          "base_uri": "https://localhost:8080/",
          "height": 312
        },
        "outputId": "9575377c-d5da-405c-c407-8d667fe42f34"
      },
      "source": [
        "# the histogram of the data\n",
        "n, bins, patches = plt.hist(eB_US_State_GDP_Pop1['occurrence_density'], 500,  density=True, facecolor='g')\n",
        "\n",
        "\n",
        "plt.xlabel('occurrence density/ sqr Km')\n",
        "plt.title('Histogram of Ocurrence Count Density by State')\n",
        "plt.xlim(0, 45)\n",
        "plt.ylim(0, .4)\n",
        "plt.grid(True)\n",
        "plt.show()\n",
        "print(stats.describe(eB_US_State_GDP_Pop1['occurrence_density']))"
      ],
      "execution_count": 8,
      "outputs": [
        {
          "output_type": "display_data",
          "data": {
            "image/png": "[encoded data removed]",
            "text/plain": [
              "<Figure size 432x288 with 1 Axes>"
            ]
          },
          "metadata": {
            "tags": [],
            "needs_background": "light"
          }
        },
        {
          "output_type": "stream",
          "text": [
            "DescribeResult(nobs=1173, minmax=(0.002435734282081857, 1231.5481793416548), mean=10.296522453880478, variance=3872.823485925666, skewness=13.705431774480653, kurtosis=216.15555707031686)\n"
          ],
          "name": "stdout"
        }
      ]
    },
    {
      "cell_type": "code",
      "metadata": {
        "id": "woBF25Uq3Qu9",
        "colab": {
          "base_uri": "https://localhost:8080/",
          "height": 312
        },
        "outputId": "ceaa1092-5129-46e7-99e6-9e5b920eb8ef"
      },
      "source": [
        "# the histogram of the data\n",
        "n, bins, patches = plt.hist(eB_US_State_GDP_Pop1['GDP'], 25,  density=True, facecolor='g')\n",
        "\n",
        "\n",
        "plt.xlabel('GDP 2012 Chained Dollars')\n",
        "plt.title('Histogram of GDP by State')\n",
        "plt.grid(True)\n",
        "plt.show()\n",
        "print(stats.describe(eB_US_State_GDP_Pop1['GDP']))"
      ],
      "execution_count": 9,
      "outputs": [
        {
          "output_type": "display_data",
          "data": {
            "image/png": "[encoded data removed]",
            "text/plain": [
              "<Figure size 432x288 with 1 Axes>"
            ]
          },
          "metadata": {
            "tags": [],
            "needs_background": "light"
          }
        },
        {
          "output_type": "stream",
          "text": [
            "DescribeResult(nobs=1173, minmax=(20026.1, 2792029.1), mean=300538.80707587383, variance=139596406094.7273, skewness=3.0889066414766, kurtosis=11.876322158144406)\n"
          ],
          "name": "stdout"
        }
      ]
    },
    {
      "cell_type": "code",
      "metadata": {
        "id": "mnDg7hVC3Qu_",
        "colab": {
          "base_uri": "https://localhost:8080/",
          "height": 312
        },
        "outputId": "9bb823b4-f257-4419-f444-ee2ea4067639"
      },
      "source": [
        "# the histogram of the data\n",
        "n, bins, patches = plt.hist(eB_US_State_GDP_Pop1['population_density'], 150,  density=True, facecolor='g')\n",
        "\n",
        "\n",
        "plt.xlabel('persons / sqr Km')\n",
        "plt.title('Histogram of Population Density by State')\n",
        "plt.grid(True)\n",
        "plt.xlim(0, 500)\n",
        "plt.ylim(0, .016)\n",
        "plt.show()\n",
        "print(stats.describe(eB_US_State_GDP_Pop1['population_density']))"
      ],
      "execution_count": 10,
      "outputs": [
        {
          "output_type": "display_data",
          "data": {
            "image/png": "[encoded data removed]",
            "text/plain": [
              "<Figure size 432x288 with 1 Axes>"
            ]
          },
          "metadata": {
            "tags": [],
            "needs_background": "light"
          }
        },
        {
          "output_type": "stream",
          "text": [
            "DescribeResult(nobs=1173, minmax=(0.3530931327267058, 3986.661174867183), mean=127.91294319870894, variance=225514.29814119675, skewness=6.759730551879477, kurtosis=45.36019979667508)\n"
          ],
          "name": "stdout"
        }
      ]
    },
    {
      "cell_type": "markdown",
      "metadata": {
        "id": "Myu8mIZ9zM9R"
      },
      "source": [
        "## Spearman Correlation Test"
      ]
    },
    {
      "cell_type": "code",
      "metadata": {
        "id": "pC4ij2Rm3QvC",
        "colab": {
          "base_uri": "https://localhost:8080/",
          "height": 81
        },
        "outputId": "9d8d6810-cfe3-4959-cada-d67c10340ec4"
      },
      "source": [
        "#GDP vs. Species Density(No. Spcs/ SQ Km)\n",
        "pg.corr(x=eB_US_State_GDP_Pop1['GDP'],\n",
        "        y=eB_US_State_GDP_Pop1['species_density'],\n",
        "        method='spearman')"
      ],
      "execution_count": 11,
      "outputs": [
        {
          "output_type": "execute_result",
          "data": {
            "text/html": [
              "<div>\n",
              "<style scoped>\n",
              "    .dataframe tbody tr th:only-of-type {\n",
              "        vertical-align: middle;\n",
              "    }\n",
              "\n",
              "    .dataframe tbody tr th {\n",
              "        vertical-align: top;\n",
              "    }\n",
              "\n",
              "    .dataframe thead th {\n",
              "        text-align: right;\n",
              "    }\n",
              "</style>\n",
              "<table border=\"1\" class=\"dataframe\">\n",
              "  <thead>\n",
              "    <tr style=\"text-align: right;\">\n",
              "      <th></th>\n",
              "      <th>n</th>\n",
              "      <th>r</th>\n",
              "      <th>CI95%</th>\n",
              "      <th>r2</th>\n",
              "      <th>adj_r2</th>\n",
              "      <th>p-val</th>\n",
              "      <th>power</th>\n",
              "    </tr>\n",
              "  </thead>\n",
              "  <tbody>\n",
              "    <tr>\n",
              "      <th>spearman</th>\n",
              "      <td>1173</td>\n",
              "      <td>0.041977</td>\n",
              "      <td>[-0.02, 0.1]</td>\n",
              "      <td>0.001762</td>\n",
              "      <td>0.000056</td>\n",
              "      <td>0.150781</td>\n",
              "      <td>0.300902</td>\n",
              "    </tr>\n",
              "  </tbody>\n",
              "</table>\n",
              "</div>"
            ],
            "text/plain": [
              "             n         r         CI95%        r2    adj_r2     p-val     power\n",
              "spearman  1173  0.041977  [-0.02, 0.1]  0.001762  0.000056  0.150781  0.300902"
            ]
          },
          "metadata": {
            "tags": []
          },
          "execution_count": 11
        }
      ]
    },
    {
      "cell_type": "code",
      "metadata": {
        "id": "BOiQPupw3QvM",
        "colab": {
          "base_uri": "https://localhost:8080/",
          "height": 386
        },
        "outputId": "44c3477a-8c6e-46bf-b2d9-9ea597c95963"
      },
      "source": [
        "\n",
        "sns.lmplot(x='GDP', y='species_density', data=eB_US_State_GDP_Pop1)\n",
        "plt.title(\"Unique Species Count Density Vs. Real GDP 2012 Chained Dollars\");"
      ],
      "execution_count": 12,
      "outputs": [
        {
          "output_type": "display_data",
          "data": {
            "image/png": "[encoded data removed]",
            "text/plain": [
              "<Figure size 360x360 with 1 Axes>"
            ]
          },
          "metadata": {
            "tags": [],
            "needs_background": "light"
          }
        }
      ]
    },
    {
      "cell_type": "markdown",
      "metadata": {
        "id": "Xv6P9Jg_zZGQ"
      },
      "source": [
        "pearman r=0.041977, p=0.150781\n",
        "(fail to reject H0)\n"
      ]
    },
    {
      "cell_type": "code",
      "metadata": {
        "id": "J2T2nDzV3QvO",
        "colab": {
          "base_uri": "https://localhost:8080/",
          "height": 81
        },
        "outputId": "b9342832-9800-427a-ea3b-4a85546c0f10"
      },
      "source": [
        "#population_density (No. people/ SQ Km) vs Species Density(No. Spcs/ SQ Km)\n",
        "pg.corr(x=eB_US_State_GDP_Pop1['population_density'], y=eB_US_State_GDP_Pop1['species_density'],  method='spearman')"
      ],
      "execution_count": 13,
      "outputs": [
        {
          "output_type": "execute_result",
          "data": {
            "text/html": [
              "<div>\n",
              "<style scoped>\n",
              "    .dataframe tbody tr th:only-of-type {\n",
              "        vertical-align: middle;\n",
              "    }\n",
              "\n",
              "    .dataframe tbody tr th {\n",
              "        vertical-align: top;\n",
              "    }\n",
              "\n",
              "    .dataframe thead th {\n",
              "        text-align: right;\n",
              "    }\n",
              "</style>\n",
              "<table border=\"1\" class=\"dataframe\">\n",
              "  <thead>\n",
              "    <tr style=\"text-align: right;\">\n",
              "      <th></th>\n",
              "      <th>n</th>\n",
              "      <th>r</th>\n",
              "      <th>CI95%</th>\n",
              "      <th>r2</th>\n",
              "      <th>adj_r2</th>\n",
              "      <th>p-val</th>\n",
              "      <th>power</th>\n",
              "    </tr>\n",
              "  </thead>\n",
              "  <tbody>\n",
              "    <tr>\n",
              "      <th>spearman</th>\n",
              "      <td>1173</td>\n",
              "      <td>0.714799</td>\n",
              "      <td>[0.69, 0.74]</td>\n",
              "      <td>0.510938</td>\n",
              "      <td>0.510102</td>\n",
              "      <td>4.320186e-184</td>\n",
              "      <td>1.0</td>\n",
              "    </tr>\n",
              "  </tbody>\n",
              "</table>\n",
              "</div>"
            ],
            "text/plain": [
              "             n         r         CI95%        r2    adj_r2          p-val  \\\n",
              "spearman  1173  0.714799  [0.69, 0.74]  0.510938  0.510102  4.320186e-184   \n",
              "\n",
              "          power  \n",
              "spearman    1.0  "
            ]
          },
          "metadata": {
            "tags": []
          },
          "execution_count": 13
        }
      ]
    },
    {
      "cell_type": "code",
      "metadata": {
        "id": "4KlpjFyu3QvS",
        "colab": {
          "base_uri": "https://localhost:8080/",
          "height": 400
        },
        "outputId": "552d7801-cb28-45f2-83ab-0d40f4910dc8"
      },
      "source": [
        "\n",
        "sns.lmplot(x='population_density',\n",
        "           y='species_density',\n",
        "           data=eB_US_State_GDP_Pop1)\n",
        "plt.title(\"Unique Species Count Density Vs. Population Density\");"
      ],
      "execution_count": 14,
      "outputs": [
        {
          "output_type": "display_data",
          "data": {
            "image/png": "[encoded data removed]",
            "text/plain": [
              "<Figure size 360x360 with 1 Axes>"
            ]
          },
          "metadata": {
            "tags": [],
            "needs_background": "light"
          }
        }
      ]
    },
    {
      "cell_type": "markdown",
      "metadata": {
        "id": "-meT2rHOzhSv"
      },
      "source": [
        "Spearman r=0.714799, p=4.320186e-184\n",
        "(reject H0)\n"
      ]
    },
    {
      "cell_type": "code",
      "metadata": {
        "id": "Ixmyp8jB3QvZ",
        "colab": {
          "base_uri": "https://localhost:8080/",
          "height": 81
        },
        "outputId": "3a5eee83-055b-4dbe-ff2b-d12a404fb15e"
      },
      "source": [
        "# GDP vs Occurrence Density(No. Occrr/ SQ Km)\n",
        "pg.corr(x=eB_US_State_GDP_Pop1['GDP'],\n",
        "y=eB_US_State_GDP_Pop1['occurrence_density'],\n",
        "method='spearman')"
      ],
      "execution_count": 15,
      "outputs": [
        {
          "output_type": "execute_result",
          "data": {
            "text/html": [
              "<div>\n",
              "<style scoped>\n",
              "    .dataframe tbody tr th:only-of-type {\n",
              "        vertical-align: middle;\n",
              "    }\n",
              "\n",
              "    .dataframe tbody tr th {\n",
              "        vertical-align: top;\n",
              "    }\n",
              "\n",
              "    .dataframe thead th {\n",
              "        text-align: right;\n",
              "    }\n",
              "</style>\n",
              "<table border=\"1\" class=\"dataframe\">\n",
              "  <thead>\n",
              "    <tr style=\"text-align: right;\">\n",
              "      <th></th>\n",
              "      <th>n</th>\n",
              "      <th>r</th>\n",
              "      <th>CI95%</th>\n",
              "      <th>r2</th>\n",
              "      <th>adj_r2</th>\n",
              "      <th>p-val</th>\n",
              "      <th>power</th>\n",
              "    </tr>\n",
              "  </thead>\n",
              "  <tbody>\n",
              "    <tr>\n",
              "      <th>spearman</th>\n",
              "      <td>1173</td>\n",
              "      <td>0.397223</td>\n",
              "      <td>[0.35, 0.44]</td>\n",
              "      <td>0.157786</td>\n",
              "      <td>0.156347</td>\n",
              "      <td>1.262781e-45</td>\n",
              "      <td>1.0</td>\n",
              "    </tr>\n",
              "  </tbody>\n",
              "</table>\n",
              "</div>"
            ],
            "text/plain": [
              "             n         r         CI95%        r2    adj_r2         p-val  \\\n",
              "spearman  1173  0.397223  [0.35, 0.44]  0.157786  0.156347  1.262781e-45   \n",
              "\n",
              "          power  \n",
              "spearman    1.0  "
            ]
          },
          "metadata": {
            "tags": []
          },
          "execution_count": 15
        }
      ]
    },
    {
      "cell_type": "code",
      "metadata": {
        "id": "gaxsztIHJl6M",
        "colab": {
          "base_uri": "https://localhost:8080/",
          "height": 386
        },
        "outputId": "e347821b-0928-44aa-b053-effde8f180d5"
      },
      "source": [
        "sns.lmplot(x='GDP',\n",
        "           y='occurrence_density',\n",
        "           data=eB_US_State_GDP_Pop1)\n",
        "plt.title(\"Occurrence Count Density Vs.  Real GDP 2012 Chained Dollars\");"
      ],
      "execution_count": 16,
      "outputs": [
        {
          "output_type": "display_data",
          "data": {
            "image/png": "[encoded data removed]",
            "text/plain": [
              "<Figure size 360x360 with 1 Axes>"
            ]
          },
          "metadata": {
            "tags": [],
            "needs_background": "light"
          }
        }
      ]
    },
    {
      "cell_type": "markdown",
      "metadata": {
        "id": "nyTX6quTz3n6"
      },
      "source": [
        "Spearman r=0.397223, p=1.262781e-45\n",
        "(reject H0)\n"
      ]
    },
    {
      "cell_type": "code",
      "metadata": {
        "id": "DDD9hpN93Qvh",
        "colab": {
          "base_uri": "https://localhost:8080/",
          "height": 81
        },
        "outputId": "6357a35d-1d54-4d82-e3b2-fd32a574ed67"
      },
      "source": [
        "# Population Density vs Occurrence Density(No. Occrr/ SQ Km)\n",
        "pg.corr(x=eB_US_State_GDP_Pop1['population_density'],\n",
        "        y=eB_US_State_GDP_Pop1['occurrence_density'],\n",
        "        method='spearman')"
      ],
      "execution_count": 17,
      "outputs": [
        {
          "output_type": "execute_result",
          "data": {
            "text/html": [
              "<div>\n",
              "<style scoped>\n",
              "    .dataframe tbody tr th:only-of-type {\n",
              "        vertical-align: middle;\n",
              "    }\n",
              "\n",
              "    .dataframe tbody tr th {\n",
              "        vertical-align: top;\n",
              "    }\n",
              "\n",
              "    .dataframe thead th {\n",
              "        text-align: right;\n",
              "    }\n",
              "</style>\n",
              "<table border=\"1\" class=\"dataframe\">\n",
              "  <thead>\n",
              "    <tr style=\"text-align: right;\">\n",
              "      <th></th>\n",
              "      <th>n</th>\n",
              "      <th>r</th>\n",
              "      <th>CI95%</th>\n",
              "      <th>r2</th>\n",
              "      <th>adj_r2</th>\n",
              "      <th>p-val</th>\n",
              "      <th>power</th>\n",
              "    </tr>\n",
              "  </thead>\n",
              "  <tbody>\n",
              "    <tr>\n",
              "      <th>spearman</th>\n",
              "      <td>1173</td>\n",
              "      <td>0.622517</td>\n",
              "      <td>[0.59, 0.66]</td>\n",
              "      <td>0.387527</td>\n",
              "      <td>0.38648</td>\n",
              "      <td>8.166804e-127</td>\n",
              "      <td>1.0</td>\n",
              "    </tr>\n",
              "  </tbody>\n",
              "</table>\n",
              "</div>"
            ],
            "text/plain": [
              "             n         r         CI95%        r2   adj_r2          p-val  \\\n",
              "spearman  1173  0.622517  [0.59, 0.66]  0.387527  0.38648  8.166804e-127   \n",
              "\n",
              "          power  \n",
              "spearman    1.0  "
            ]
          },
          "metadata": {
            "tags": []
          },
          "execution_count": 17
        }
      ]
    },
    {
      "cell_type": "code",
      "metadata": {
        "id": "xXhBTk_dNXMe",
        "colab": {
          "base_uri": "https://localhost:8080/",
          "height": 400
        },
        "outputId": "a45225ae-b744-40c8-c839-451de83f2d2c"
      },
      "source": [
        "sns.lmplot(x='population_density',\n",
        "           y='occurrence_density',\n",
        "           data=eB_US_State_GDP_Pop1)\n",
        "plt.title(\"Occurrence Density Vs.  Population Density\");"
      ],
      "execution_count": 18,
      "outputs": [
        {
          "output_type": "display_data",
          "data": {
            "image/png": "[encoded data removed]",
            "text/plain": [
              "<Figure size 360x360 with 1 Axes>"
            ]
          },
          "metadata": {
            "tags": [],
            "needs_background": "light"
          }
        }
      ]
    },
    {
      "cell_type": "markdown",
      "metadata": {
        "id": "lSu1mnH2z8nO"
      },
      "source": [
        "Spearman r=0.622517, p=8.166804e-127\n",
        "(reject H0)\n"
      ]
    },
    {
      "cell_type": "markdown",
      "metadata": {
        "id": "CH-Nut9Ez-nk"
      },
      "source": [
        "## Kruskal-Wallis test"
      ]
    },
    {
      "cell_type": "code",
      "metadata": {
        "id": "WAHZrMjC3Qvq"
      },
      "source": [
        "eB_2001_ocurrenceD = x=eB_US_State_GDP_Pop1[eB_US_State_GDP_Pop1['year'] == 2001]['occurrence_density']\n",
        "eB_2011_ocurrenceD = x=eB_US_State_GDP_Pop1[eB_US_State_GDP_Pop1['year'] == 2011]['occurrence_density']\n",
        "eB_2019_ocurrenceD = x=eB_US_State_GDP_Pop1[eB_US_State_GDP_Pop1['year'] == 2019]['occurrence_density']"
      ],
      "execution_count": 19,
      "outputs": []
    },
    {
      "cell_type": "code",
      "metadata": {
        "id": "AQ60bN1d3Qvt",
        "colab": {
          "base_uri": "https://localhost:8080/"
        },
        "outputId": "5bf4de7a-34fd-4812-9cfb-d871bae21e09"
      },
      "source": [
        "stat, p =stats.kruskal(eB_2001_ocurrenceD , eB_2011_ocurrenceD ,eB_2019_ocurrenceD )\n",
        "print('Statistics=%.3f, p=%.3f' % (stat, p))\n",
        "# interpret\n",
        "alpha = 0.05\n",
        "if p > alpha:\n",
        "    print('Same distributions (fail to reject H0)')\n",
        "else:\n",
        "    print('Different distributions (reject H0)')"
      ],
      "execution_count": 20,
      "outputs": [
        {
          "output_type": "stream",
          "text": [
            "Statistics=89.441, p=0.000\n",
            "Different distributions (reject H0)\n"
          ],
          "name": "stdout"
        }
      ]
    },
    {
      "cell_type": "code",
      "metadata": {
        "id": "rQm_4nia3Qvw"
      },
      "source": [
        "eB_2001_speciesD = x=eB_US_State_GDP_Pop1[eB_US_State_GDP_Pop1['year'] == 2001]['species_density']\n",
        "eB_2011_speciesD = x=eB_US_State_GDP_Pop1[eB_US_State_GDP_Pop1['year'] == 2011]['species_density']\n",
        "eB_2019_speciesD = x=eB_US_State_GDP_Pop1[eB_US_State_GDP_Pop1['year'] == 2019]['species_density']"
      ],
      "execution_count": 21,
      "outputs": []
    },
    {
      "cell_type": "code",
      "metadata": {
        "id": "FGJ2AAHJ3Qvy",
        "colab": {
          "base_uri": "https://localhost:8080/"
        },
        "outputId": "42c08af7-9dff-4a0c-a82c-987edb2cd38a"
      },
      "source": [
        "stat, p =stats.kruskal(eB_2001_speciesD , eB_2011_speciesD ,eB_2019_speciesD )\n",
        "print('Statistics=%.3f, p=%.3f' % (stat, p))\n",
        "# interpret\n",
        "alpha = 0.05\n",
        "if p > alpha:\n",
        "    print('Same distributions (fail to reject H0)')\n",
        "else:\n",
        "    print('Different distributions (reject H0)')"
      ],
      "execution_count": 22,
      "outputs": [
        {
          "output_type": "stream",
          "text": [
            "Statistics=1.055, p=0.590\n",
            "Same distributions (fail to reject H0)\n"
          ],
          "name": "stdout"
        }
      ]
    },
    {
      "cell_type": "code",
      "metadata": {
        "id": "hp_-mWfz3Qv3"
      },
      "source": [
        "eB_2001_GDP = x=eB_US_State_GDP_Pop1[eB_US_State_GDP_Pop1['year'] == 2001]['GDP']\n",
        "eB_2011_GDP = x=eB_US_State_GDP_Pop1[eB_US_State_GDP_Pop1['year'] == 2011]['GDP']\n",
        "eB_2019_GDP = x=eB_US_State_GDP_Pop1[eB_US_State_GDP_Pop1['year'] == 2019]['GDP']"
      ],
      "execution_count": 23,
      "outputs": []
    },
    {
      "cell_type": "code",
      "metadata": {
        "id": "4MWKYk5J3Qv6",
        "colab": {
          "base_uri": "https://localhost:8080/"
        },
        "outputId": "abb3d9e3-735b-4252-ffc5-1ecd2b2c7272"
      },
      "source": [
        "stat, p =stats.kruskal(eB_2001_GDP , eB_2011_GDP ,eB_2019_GDP )\n",
        "print('Statistics=%.3f, p=%.3f' % (stat, p))\n",
        "# interpret\n",
        "alpha = 0.05\n",
        "if p > alpha:\n",
        "    print('Same distributions (fail to reject H0)')\n",
        "else:\n",
        "    print('Different distributions (reject H0)')"
      ],
      "execution_count": 24,
      "outputs": [
        {
          "output_type": "stream",
          "text": [
            "Statistics=2.196, p=0.334\n",
            "Same distributions (fail to reject H0)\n"
          ],
          "name": "stdout"
        }
      ]
    },
    {
      "cell_type": "code",
      "metadata": {
        "id": "ZN4Aw4ui3Qv_"
      },
      "source": [
        "eB_2001_Population = x=eB_US_State_GDP_Pop1[eB_US_State_GDP_Pop1['year'] == 2001]['Population']\n",
        "eB_2011_Population = x=eB_US_State_GDP_Pop1[eB_US_State_GDP_Pop1['year'] == 2011]['Population']\n",
        "eB_2019_Population = x=eB_US_State_GDP_Pop1[eB_US_State_GDP_Pop1['year'] == 2019]['Population']"
      ],
      "execution_count": 25,
      "outputs": []
    },
    {
      "cell_type": "code",
      "metadata": {
        "id": "lgUHGqgW3QwB",
        "colab": {
          "base_uri": "https://localhost:8080/"
        },
        "outputId": "59ff028d-27cb-413b-db5d-d4a6cdcf90bc"
      },
      "source": [
        "stat, p =stats.kruskal(eB_2001_Population , eB_2011_Population ,eB_2019_Population )\n",
        "print('Statistics=%.3f, p=%.3f' % (stat, p))\n",
        "# interpret\n",
        "alpha = 0.05\n",
        "if p > alpha:\n",
        "    print('Same distributions (fail to reject H0)')\n",
        "else:\n",
        "    print('Different distributions (reject H0)')"
      ],
      "execution_count": 26,
      "outputs": [
        {
          "output_type": "stream",
          "text": [
            "Statistics=0.699, p=0.705\n",
            "Same distributions (fail to reject H0)\n"
          ],
          "name": "stdout"
        }
      ]
    },
    {
      "cell_type": "code",
      "metadata": {
        "id": "reYt8wBk3QwD"
      },
      "source": [
        "eB_US_State_GDP_Pop2 = eB_US_State_GDP_Pop1.groupby(['year'], as_index=False).occurrence_count.sum()"
      ],
      "execution_count": 27,
      "outputs": []
    },
    {
      "cell_type": "code",
      "metadata": {
        "id": "G_RrdX5jR20H",
        "colab": {
          "base_uri": "https://localhost:8080/",
          "height": 589
        },
        "outputId": "6707f41b-a95b-47ea-afb6-8c3c39b3e238"
      },
      "source": [
        "data_occurrence = [eB_2001_ocurrenceD, eB_2011_ocurrenceD, eB_2019_ocurrenceD]\n",
        "data_species = [eB_2001_speciesD, eB_2011_speciesD, eB_2019_speciesD]\n",
        "fontsize=40\n",
        "labels = ['2001', '2011', '2019']\n",
        "\n",
        "fig, (ax2, ax3) = plt.subplots(nrows=1, ncols=2, figsize=(18,9))\n",
        "\n",
        "\n",
        "# occurrence box plot\n",
        "bplot1=ax2.boxplot(data_occurrence ,\n",
        "            vert=True,  # vertical box alignment\n",
        "            patch_artist=True,  # fill with color\n",
        "            labels=labels)  # will be used to label x-ticks\n",
        "ax2.set_yscale('log')\n",
        "ax2.set_title('Occurrence Count Density', fontsize=20)\n",
        "\n",
        "\n",
        "# occurrence box plot\n",
        "bplot2=ax3.boxplot(data_species,\n",
        "            vert=True,  # vertical box alignment\n",
        "            patch_artist=True,  # fill with color\n",
        "            labels=labels)  # will be used to label x-ticks\n",
        "ax3.set_yscale('log', )\n",
        "ax3.set_title('Species Count Density', fontsize=20)\n",
        "\n",
        "\n",
        "# fill with colors\n",
        "colors = ['pink', 'lightblue', 'lightgreen']\n",
        "for bplot in (bplot1, bplot2):\n",
        "    for patch, color in zip(bplot['boxes'], colors):\n",
        "        patch.set_facecolor(color)\n",
        "\n",
        "# adding horizontal grid lines\n",
        "for ax in [ax2, ax3]:\n",
        "    ax.yaxis.grid(True)\n",
        "    ax.set_xlabel('Year',  fontsize=18)\n",
        "    ax.set_ylabel('Density',  fontsize=18)\n",
        "    \n",
        "ax2.tick_params(labelsize = 20)\n",
        "ax3.tick_params(labelsize = 20)\n",
        "plt.show()"
      ],
      "execution_count": 28,
      "outputs": [
        {
          "output_type": "display_data",
          "data": {
            "image/png": "[encoded data removed]",
            "text/plain": [
              "<Figure size 1296x648 with 2 Axes>"
            ]
          },
          "metadata": {
            "tags": [],
            "needs_background": "light"
          }
        }
      ]
    },
    {
      "cell_type": "code",
      "metadata": {
        "id": "98_w80Ggqi7q",
        "colab": {
          "base_uri": "https://localhost:8080/",
          "height": 589
        },
        "outputId": "717400fd-efde-4dc7-9b90-79b800b2c596"
      },
      "source": [
        "data_GDP = [eB_2001_GDP, eB_2011_GDP, eB_2019_GDP]\n",
        "data_Population = [eB_2001_Population, eB_2011_Population, eB_2019_Population]\n",
        "\n",
        "labels = ['2001', '2011', '2019']\n",
        "\n",
        "fig, (ax5, ax6) = plt.subplots(nrows=1, ncols=2, figsize=(18, 9))\n",
        "\n",
        "# occurrence box plot\n",
        "bplot3=ax5.boxplot(data_occurrence ,\n",
        "            vert=True,  # vertical box alignment\n",
        "            patch_artist=True,  # fill with color\n",
        "            labels=labels)  # will be used to label x-ticks\n",
        "ax5.set_yscale('log')\n",
        "ax5.set_title('GDP by State', fontsize=20)\n",
        "\n",
        "# occurrence box plot\n",
        "bplot4=ax6.boxplot(data_species,\n",
        "            vert=True,  # vertical box alignment\n",
        "            patch_artist=True,  # fill with color\n",
        "            labels=labels)  # will be used to label x-ticks\n",
        "ax6.set_yscale('log')\n",
        "ax6.set_title('Population Density by State', fontsize=20)\n",
        "\n",
        "# fill with colors\n",
        "colors = ['pink', 'lightblue', 'lightgreen']\n",
        "for bplot in (bplot3, bplot4):\n",
        "    for patch, color in zip(bplot['boxes'], colors):\n",
        "        patch.set_facecolor(color)\n",
        "\n",
        "# adding horizontal grid lines\n",
        "\n",
        "    ax5.yaxis.grid(True)\n",
        "    ax5.set_xlabel('Year',  fontsize=18)\n",
        "    ax5.set_ylabel('GDP',  fontsize=18)\n",
        "    ax6.yaxis.grid(True)\n",
        "    ax6.set_xlabel('Year',  fontsize=18)\n",
        "    ax6.set_ylabel('Density',  fontsize=18)\n",
        "\n",
        "ax5.tick_params(labelsize = 20)\n",
        "ax6.tick_params(labelsize = 20)\n",
        "plt.show()"
      ],
      "execution_count": 29,
      "outputs": [
        {
          "output_type": "display_data",
          "data": {
            "image/png": "[encoded data removed]",
            "text/plain": [
              "<Figure size 1296x648 with 2 Axes>"
            ]
          },
          "metadata": {
            "tags": [],
            "needs_background": "light"
          }
        }
      ]
    },
    {
      "cell_type": "markdown",
      "metadata": {
        "id": "8w8Dp2Uo1mSl"
      },
      "source": [
        "## Data Interpretation\n",
        "\n",
        "* Significant difference in occurrence density between the years 2001, 2011 and 2019. \n",
        "* No significant difference in GDP, Population Density or Unique Species Count Density between the years 2001, 2011 and 2019.\n",
        "* No correlations between Unique Species Density and GDP.\n",
        "* Strong positive correlation between Unique Species Density and Population Density.\n",
        "* Moderate positive correlations between Occurrence Density with GDP and Population Density.\n",
        "\n"
      ]
    },
    {
      "cell_type": "markdown",
      "metadata": {
        "id": "0vscsCLE1zhS"
      },
      "source": [
        "## CONCLUSION \n",
        "\n",
        "More testing is required to identify a relationship that would allow using the eBird database as a environmental indicator. Some recommendations are:\n",
        "* Focus on specific species, maybe the most sensitive ones.\n",
        "* Using Current Value GDP (instead of Real GDP) and correct for inflation in the study to have a larger dataset. Real GDP dataset begins in 1997. \n",
        "* Breaking down the GDP data by industry group.\n",
        "* Including pollution discharges data from EPA permits.\n",
        "\n"
      ]
    }
  ]
}